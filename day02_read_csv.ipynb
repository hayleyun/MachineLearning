{
 "cells": [
  {
   "cell_type": "code",
   "execution_count": 2,
   "id": "c2600858-a3f4-4793-9018-6e766d15bda6",
   "metadata": {},
   "outputs": [],
   "source": [
    "import pandas as pd\n",
    "import pandas as pd"
   ]
  },
  {
   "cell_type": "code",
   "execution_count": 4,
   "id": "54ae733a-884b-4144-8f2f-729feb3923fb",
   "metadata": {},
   "outputs": [],
   "source": [
    "df=pd.read_csv('../data/ch1_sport_test.csv',\n",
    "              index_col='학생번호')"
   ]
  },
  {
   "cell_type": "code",
   "execution_count": 24,
   "id": "5b1229e3-b0f3-448c-b7db-c79448a2e275",
   "metadata": {},
   "outputs": [
    {
     "data": {
      "text/plain": [
       "학생번호\n",
       "1     40.2\n",
       "2     34.2\n",
       "3     28.8\n",
       "4     39.0\n",
       "5     50.9\n",
       "6     36.5\n",
       "7     36.6\n",
       "8     49.2\n",
       "9     26.0\n",
       "10    47.4\n",
       "Name: 악력, dtype: float64"
      ]
     },
     "execution_count": 24,
     "metadata": {},
     "output_type": "execute_result"
    }
   ],
   "source": [
    "df\n",
    "df['악력']"
   ]
  },
  {
   "cell_type": "code",
   "execution_count": 11,
   "id": "641bc719-a5d5-4348-8acc-879542e9fd9f",
   "metadata": {},
   "outputs": [
    {
     "data": {
      "text/plain": [
       "학생번호\n",
       "1     40.2\n",
       "2     34.2\n",
       "3     28.8\n",
       "4     39.0\n",
       "5     50.9\n",
       "6     36.5\n",
       "7     36.6\n",
       "8     49.2\n",
       "9     26.0\n",
       "10    47.4\n",
       "Name: 악력, dtype: float64"
      ]
     },
     "execution_count": 11,
     "metadata": {},
     "output_type": "execute_result"
    }
   ],
   "source": [
    "df.악력"
   ]
  },
  {
   "cell_type": "code",
   "execution_count": 12,
   "id": "43c4c0c5-bab2-4f65-adeb-e5e5bcef237a",
   "metadata": {},
   "outputs": [
    {
     "data": {
      "text/plain": [
       "(10, 5)"
      ]
     },
     "execution_count": 12,
     "metadata": {},
     "output_type": "execute_result"
    }
   ],
   "source": [
    "df.shape"
   ]
  },
  {
   "cell_type": "code",
   "execution_count": 13,
   "id": "d0a898ea-cbff-42e3-81a7-143946108634",
   "metadata": {},
   "outputs": [
    {
     "name": "stdout",
     "output_type": "stream",
     "text": [
      "<class 'pandas.core.frame.DataFrame'>\n",
      "Int64Index: 10 entries, 1 to 10\n",
      "Data columns (total 5 columns):\n",
      " #   Column  Non-Null Count  Dtype  \n",
      "---  ------  --------------  -----  \n",
      " 0   학년      10 non-null     int64  \n",
      " 1   악력      10 non-null     float64\n",
      " 2   윗몸일으키기  10 non-null     int64  \n",
      " 3   점수      10 non-null     int64  \n",
      " 4   순위      10 non-null     int64  \n",
      "dtypes: float64(1), int64(4)\n",
      "memory usage: 480.0 bytes\n"
     ]
    }
   ],
   "source": [
    "df.info()"
   ]
  },
  {
   "cell_type": "code",
   "execution_count": 14,
   "id": "642d826a-af7a-4cae-b4e3-9454296a77ea",
   "metadata": {},
   "outputs": [
    {
     "data": {
      "text/plain": [
       "Index(['학년', '악력', '윗몸일으키기', '점수', '순위'], dtype='object')"
      ]
     },
     "execution_count": 14,
     "metadata": {},
     "output_type": "execute_result"
    }
   ],
   "source": [
    "df.columns"
   ]
  },
  {
   "cell_type": "code",
   "execution_count": 15,
   "id": "95b46fd1-464b-4bc3-ab81-89bf4d8df557",
   "metadata": {},
   "outputs": [
    {
     "data": {
      "text/plain": [
       "Int64Index([1, 2, 3, 4, 5, 6, 7, 8, 9, 10], dtype='int64', name='학생번호')"
      ]
     },
     "execution_count": 15,
     "metadata": {},
     "output_type": "execute_result"
    }
   ],
   "source": [
    "df.index"
   ]
  },
  {
   "cell_type": "code",
   "execution_count": null,
   "id": "cc0b29b3-0dcf-43ae-a3cc-0e9e8f2eda79",
   "metadata": {},
   "outputs": [],
   "source": []
  },
  {
   "cell_type": "code",
   "execution_count": null,
   "id": "b34909d4-82f4-4f24-b78c-874c040fae30",
   "metadata": {},
   "outputs": [],
   "source": []
  },
  {
   "cell_type": "code",
   "execution_count": null,
   "id": "5e34a5a6-3a4b-4448-96ad-1fe7bc15ed29",
   "metadata": {},
   "outputs": [],
   "source": []
  },
  {
   "cell_type": "code",
   "execution_count": null,
   "id": "7d92f73a-cd07-4c32-82e0-c4da9bb273d3",
   "metadata": {},
   "outputs": [],
   "source": []
  }
 ],
 "metadata": {
  "kernelspec": {
   "display_name": "Python 3 (ipykernel)",
   "language": "python",
   "name": "python3"
  },
  "language_info": {
   "codemirror_mode": {
    "name": "ipython",
    "version": 3
   },
   "file_extension": ".py",
   "mimetype": "text/x-python",
   "name": "python",
   "nbconvert_exporter": "python",
   "pygments_lexer": "ipython3",
   "version": "3.9.7"
  }
 },
 "nbformat": 4,
 "nbformat_minor": 5
}
