{
  "nbformat": 4,
  "nbformat_minor": 0,
  "metadata": {
    "colab": {
      "name": "03_DataProcessing.ipynb",
      "provenance": [],
      "toc_visible": true
    },
    "kernelspec": {
      "name": "python3",
      "display_name": "Python 3"
    },
    "language_info": {
      "name": "python"
    }
  },
  "cells": [
    {
      "cell_type": "markdown",
      "source": [
        "# 데이터 전처리\n",
        "### ✔ 결측값, Null 값 허용 안됨\n",
        "- 피처 값 중 Null 값이 얼마 되지 않는다면 피처의 평균값 등으로 대체\n",
        "- 피처 값 중 Null 값이 대부분이라면 드롭\n",
        "- 하지만 해당 피처가 중요도가 높고 Null을 평균값으로 대체 할 경우 왜곡이 심하다면 정밀한 대체 값을 선정\n",
        "\n",
        "### ✔ 문자열 값을 입력값으로 허용하지 않는다\n",
        "- 모든 문자열 값은 인코딩 해서 숫자 형으로 변환해야 한다\n",
        "- 일반적으로 카테고리형 피처와 텍스트형 피처를 의미\n",
        "- 텍스트형 피처는 백터화(feature vectorization) 기법으로 백터화\n",
        "- 불필요하다면 삭제"
      ],
      "metadata": {
        "id": "6OcRt2Ci0GAT"
      }
    },
    {
      "cell_type": "markdown",
      "source": [
        "## 1. 데이터 인코딩"
      ],
      "metadata": {
        "id": "LlIcrYVCFoX0"
      }
    },
    {
      "cell_type": "markdown",
      "source": [
        "### [레이블 인코딩]\n",
        "- 카테고리 피처를 코드형 숫자 값으로 변환하는 것\n",
        "- 주의 해야 할 점은 '01','02' 같은 코드 값 역시 문자열이므로 변환 필요\n",
        "- 선형회귀와 같은 알고리즘에는 적용하지 않아야 한다"
      ],
      "metadata": {
        "id": "IKfp4FLw3etO"
      }
    },
    {
      "cell_type": "code",
      "execution_count": 1,
      "metadata": {
        "colab": {
          "base_uri": "https://localhost:8080/"
        },
        "id": "4-ADKQVrzp01",
        "outputId": "d1d2da49-5912-4327-c769-9fae15a092ef"
      },
      "outputs": [
        {
          "output_type": "stream",
          "name": "stdout",
          "text": [
            "인코딩 변환값 :  [0 1 4 5 3 3 2 2]\n"
          ]
        }
      ],
      "source": [
        "# 사이킷런의 레이블 인코딩은 LabelEncoder 클래스로 구현\n",
        "# LabelEncoder를 객체로 생성한 후 fit()과 transform()을 호출해 수행\n",
        "from sklearn.preprocessing import LabelEncoder\n",
        "\n",
        "items = ['TV','냉장고','전자레인지','컴퓨터','선풍기','선풍기','믹서','믹서']\n",
        "\n",
        "# LabelEncoder를 객체로 생성한 후, fit()과 transform()으로 레이블 인코딩 수행\n",
        "encoder = LabelEncoder()\n",
        "encoder.fit(items)\n",
        "labels = encoder.transform(items)\n",
        "print('인코딩 변환값 : ', labels)"
      ]
    },
    {
      "cell_type": "code",
      "source": [
        "# 문자열값이 어떤 숫자값으로 인코딩 됐는지 속성값을 알고 싶으면 classes_ \n",
        "print('인코딩 클래스 : ', encoder.classes_)"
      ],
      "metadata": {
        "colab": {
          "base_uri": "https://localhost:8080/"
        },
        "id": "vlDmqk094qNl",
        "outputId": "e084dacb-f8d9-44be-df56-115484174345"
      },
      "execution_count": 4,
      "outputs": [
        {
          "output_type": "stream",
          "name": "stdout",
          "text": [
            "인코딩 클래스 :  ['TV' '냉장고' '믹서' '선풍기' '전자레인지' '컴퓨터']\n"
          ]
        }
      ]
    },
    {
      "cell_type": "code",
      "source": [
        "# inverse_transform()을 이용해 인코딩 된 값을 디코딩 할 수 있다\n",
        "print('디코딩 원본 값 : ', encoder.inverse_transform([0,1,4,5,3,3,2,2]))"
      ],
      "metadata": {
        "colab": {
          "base_uri": "https://localhost:8080/"
        },
        "id": "vwKqj3T65KfQ",
        "outputId": "71341457-42b6-461d-9ebd-79798900f109"
      },
      "execution_count": 7,
      "outputs": [
        {
          "output_type": "stream",
          "name": "stdout",
          "text": [
            "디코딩 원본 값 :  ['TV' '냉장고' '전자레인지' '컴퓨터' '선풍기' '선풍기' '믹서' '믹서']\n"
          ]
        }
      ]
    },
    {
      "cell_type": "markdown",
      "source": [
        "✔ 레이블 인코딩은 간단하게 문자열 값을 숫자형 카테고리 값으로 변환\n",
        "\n",
        "✔ 숫자 값의 경우 크고 작음에 대한 특성이 작용하기 때문에 ML 알고리즘에서 가중치가 더 부여 되거나 더 중요하게 인식할 수 있어서 선형회귀에서는 사용 안함"
      ],
      "metadata": {
        "id": "I-Dfq20w5xLX"
      }
    },
    {
      "cell_type": "markdown",
      "source": [
        "### [ 원-핫 인코딩 ]\n",
        "- 피처 값의 유형에 따라 새로운 피처를 추가해 고유 값에 해달하는 칼럼에만 1을 표시\n",
        "- 나머지 칼럼에는 0을 표시하는 방식\n",
        "- 즉, 행 형태로 돼 있는 피처의 고유 값을 열 형태로 차원을 변환 한뒤,고유값에 해당하는 컬럼만 1을 표시하고 나머지는 0\n",
        "- LabelEncoder와 다르게 주의할 점이 있다. 원-핫 인코딩으로 변환하기 전에 모든 문자열 값이 숫자형 값으로 변환돼야 한다\n",
        "- 즉, 레이블 인코딩으로 숫자형으로 변환 한 뒤 원-핫 인코딩 변환\n",
        "- 입력 값으로 2차원 데이터가 필요하다\n",
        "\n",
        "⭐ get_dummies()를 이용하면 문자열을 숫자형으로 변환 하지 않아도 됨"
      ],
      "metadata": {
        "id": "sWwhImvR6KT_"
      }
    },
    {
      "cell_type": "markdown",
      "source": [
        "##### 일반 OneHotEncoder"
      ],
      "metadata": {
        "id": "eh7OgNzd9EsP"
      }
    },
    {
      "cell_type": "code",
      "source": [
        "from sklearn.preprocessing import OneHotEncoder\n",
        "import numpy as np\n",
        "\n",
        "items = ['TV','냉장고','전자레인지','컴퓨터','선풍기','선풍기','믹서','믹서']\n",
        "\n",
        "# 먼저 숫자 값으로 변환을 위해 LebelEncoder로 변환\n",
        "encoder = LabelEncoder()\n",
        "encoder.fit(items)\n",
        "labels = encoder.transform(items)\n",
        "\n",
        "# 2차원 데이터로 변환\n",
        "labels = labels.reshape(-1,1)"
      ],
      "metadata": {
        "id": "3yuflNQ65gjM"
      },
      "execution_count": 9,
      "outputs": []
    },
    {
      "cell_type": "code",
      "source": [
        "# 원-핫 인코딩 적용\n",
        "oh_encoder = OneHotEncoder()\n",
        "oh_labels = oh_encoder.fit_transform(labels)\n",
        "\n",
        "print('원-핫 인코딩 데이터')\n",
        "print(oh_labels.toarray())\n",
        "print('원-핫 인코딩 데이터 차원')\n",
        "print(oh_labels.shape)\n",
        "print('데이터 차원 : ',oh_labels.ndim)"
      ],
      "metadata": {
        "colab": {
          "base_uri": "https://localhost:8080/"
        },
        "id": "o_yc0M2V7YKF",
        "outputId": "37c9cf6b-6141-482e-e53c-dcd564bd9ced"
      },
      "execution_count": 12,
      "outputs": [
        {
          "output_type": "stream",
          "name": "stdout",
          "text": [
            "원-핫 인코딩 데이터\n",
            "[[1. 0. 0. 0. 0. 0.]\n",
            " [0. 1. 0. 0. 0. 0.]\n",
            " [0. 0. 0. 0. 1. 0.]\n",
            " [0. 0. 0. 0. 0. 1.]\n",
            " [0. 0. 0. 1. 0. 0.]\n",
            " [0. 0. 0. 1. 0. 0.]\n",
            " [0. 0. 1. 0. 0. 0.]\n",
            " [0. 0. 1. 0. 0. 0.]]\n",
            "원-핫 인코딩 데이터 차원\n",
            "(8, 6)\n",
            "데이터 차원 :  2\n"
          ]
        }
      ]
    },
    {
      "cell_type": "markdown",
      "source": [
        "✔ 8개의 레코드와 1개의 컬럼을 가진 원본 데이터가 8개의 레코드와 6개의 컬럼을 가진 데이터로 변환 됐다"
      ],
      "metadata": {
        "id": "qQ7OtIL08q0b"
      }
    },
    {
      "cell_type": "markdown",
      "source": [
        "##### 판다스 get_dummies() API"
      ],
      "metadata": {
        "id": "4pp69yPC9DVn"
      }
    },
    {
      "cell_type": "code",
      "source": [
        "import pandas as pd\n",
        "\n",
        "df = pd.DataFrame({'items':['TV','냉장고','전자레인지','컴퓨터','선풍기','선풍기','믹서','믹서']})\n",
        "\n",
        "pd.get_dummies(df)"
      ],
      "metadata": {
        "colab": {
          "base_uri": "https://localhost:8080/",
          "height": 300
        },
        "id": "OPpjpiAt8Mpw",
        "outputId": "2e2d21cf-d1e7-419a-dbec-bae60b951049"
      },
      "execution_count": 13,
      "outputs": [
        {
          "output_type": "execute_result",
          "data": {
            "text/plain": [
              "   items_TV  items_냉장고  items_믹서  items_선풍기  items_전자레인지  items_컴퓨터\n",
              "0         1          0         0          0            0          0\n",
              "1         0          1         0          0            0          0\n",
              "2         0          0         0          0            1          0\n",
              "3         0          0         0          0            0          1\n",
              "4         0          0         0          1            0          0\n",
              "5         0          0         0          1            0          0\n",
              "6         0          0         1          0            0          0\n",
              "7         0          0         1          0            0          0"
            ],
            "text/html": [
              "\n",
              "  <div id=\"df-903c2dcb-9adf-4ebf-8ecc-d8255bd88a2f\">\n",
              "    <div class=\"colab-df-container\">\n",
              "      <div>\n",
              "<style scoped>\n",
              "    .dataframe tbody tr th:only-of-type {\n",
              "        vertical-align: middle;\n",
              "    }\n",
              "\n",
              "    .dataframe tbody tr th {\n",
              "        vertical-align: top;\n",
              "    }\n",
              "\n",
              "    .dataframe thead th {\n",
              "        text-align: right;\n",
              "    }\n",
              "</style>\n",
              "<table border=\"1\" class=\"dataframe\">\n",
              "  <thead>\n",
              "    <tr style=\"text-align: right;\">\n",
              "      <th></th>\n",
              "      <th>items_TV</th>\n",
              "      <th>items_냉장고</th>\n",
              "      <th>items_믹서</th>\n",
              "      <th>items_선풍기</th>\n",
              "      <th>items_전자레인지</th>\n",
              "      <th>items_컴퓨터</th>\n",
              "    </tr>\n",
              "  </thead>\n",
              "  <tbody>\n",
              "    <tr>\n",
              "      <th>0</th>\n",
              "      <td>1</td>\n",
              "      <td>0</td>\n",
              "      <td>0</td>\n",
              "      <td>0</td>\n",
              "      <td>0</td>\n",
              "      <td>0</td>\n",
              "    </tr>\n",
              "    <tr>\n",
              "      <th>1</th>\n",
              "      <td>0</td>\n",
              "      <td>1</td>\n",
              "      <td>0</td>\n",
              "      <td>0</td>\n",
              "      <td>0</td>\n",
              "      <td>0</td>\n",
              "    </tr>\n",
              "    <tr>\n",
              "      <th>2</th>\n",
              "      <td>0</td>\n",
              "      <td>0</td>\n",
              "      <td>0</td>\n",
              "      <td>0</td>\n",
              "      <td>1</td>\n",
              "      <td>0</td>\n",
              "    </tr>\n",
              "    <tr>\n",
              "      <th>3</th>\n",
              "      <td>0</td>\n",
              "      <td>0</td>\n",
              "      <td>0</td>\n",
              "      <td>0</td>\n",
              "      <td>0</td>\n",
              "      <td>1</td>\n",
              "    </tr>\n",
              "    <tr>\n",
              "      <th>4</th>\n",
              "      <td>0</td>\n",
              "      <td>0</td>\n",
              "      <td>0</td>\n",
              "      <td>1</td>\n",
              "      <td>0</td>\n",
              "      <td>0</td>\n",
              "    </tr>\n",
              "    <tr>\n",
              "      <th>5</th>\n",
              "      <td>0</td>\n",
              "      <td>0</td>\n",
              "      <td>0</td>\n",
              "      <td>1</td>\n",
              "      <td>0</td>\n",
              "      <td>0</td>\n",
              "    </tr>\n",
              "    <tr>\n",
              "      <th>6</th>\n",
              "      <td>0</td>\n",
              "      <td>0</td>\n",
              "      <td>1</td>\n",
              "      <td>0</td>\n",
              "      <td>0</td>\n",
              "      <td>0</td>\n",
              "    </tr>\n",
              "    <tr>\n",
              "      <th>7</th>\n",
              "      <td>0</td>\n",
              "      <td>0</td>\n",
              "      <td>1</td>\n",
              "      <td>0</td>\n",
              "      <td>0</td>\n",
              "      <td>0</td>\n",
              "    </tr>\n",
              "  </tbody>\n",
              "</table>\n",
              "</div>\n",
              "      <button class=\"colab-df-convert\" onclick=\"convertToInteractive('df-903c2dcb-9adf-4ebf-8ecc-d8255bd88a2f')\"\n",
              "              title=\"Convert this dataframe to an interactive table.\"\n",
              "              style=\"display:none;\">\n",
              "        \n",
              "  <svg xmlns=\"http://www.w3.org/2000/svg\" height=\"24px\"viewBox=\"0 0 24 24\"\n",
              "       width=\"24px\">\n",
              "    <path d=\"M0 0h24v24H0V0z\" fill=\"none\"/>\n",
              "    <path d=\"M18.56 5.44l.94 2.06.94-2.06 2.06-.94-2.06-.94-.94-2.06-.94 2.06-2.06.94zm-11 1L8.5 8.5l.94-2.06 2.06-.94-2.06-.94L8.5 2.5l-.94 2.06-2.06.94zm10 10l.94 2.06.94-2.06 2.06-.94-2.06-.94-.94-2.06-.94 2.06-2.06.94z\"/><path d=\"M17.41 7.96l-1.37-1.37c-.4-.4-.92-.59-1.43-.59-.52 0-1.04.2-1.43.59L10.3 9.45l-7.72 7.72c-.78.78-.78 2.05 0 2.83L4 21.41c.39.39.9.59 1.41.59.51 0 1.02-.2 1.41-.59l7.78-7.78 2.81-2.81c.8-.78.8-2.07 0-2.86zM5.41 20L4 18.59l7.72-7.72 1.47 1.35L5.41 20z\"/>\n",
              "  </svg>\n",
              "      </button>\n",
              "      \n",
              "  <style>\n",
              "    .colab-df-container {\n",
              "      display:flex;\n",
              "      flex-wrap:wrap;\n",
              "      gap: 12px;\n",
              "    }\n",
              "\n",
              "    .colab-df-convert {\n",
              "      background-color: #E8F0FE;\n",
              "      border: none;\n",
              "      border-radius: 50%;\n",
              "      cursor: pointer;\n",
              "      display: none;\n",
              "      fill: #1967D2;\n",
              "      height: 32px;\n",
              "      padding: 0 0 0 0;\n",
              "      width: 32px;\n",
              "    }\n",
              "\n",
              "    .colab-df-convert:hover {\n",
              "      background-color: #E2EBFA;\n",
              "      box-shadow: 0px 1px 2px rgba(60, 64, 67, 0.3), 0px 1px 3px 1px rgba(60, 64, 67, 0.15);\n",
              "      fill: #174EA6;\n",
              "    }\n",
              "\n",
              "    [theme=dark] .colab-df-convert {\n",
              "      background-color: #3B4455;\n",
              "      fill: #D2E3FC;\n",
              "    }\n",
              "\n",
              "    [theme=dark] .colab-df-convert:hover {\n",
              "      background-color: #434B5C;\n",
              "      box-shadow: 0px 1px 3px 1px rgba(0, 0, 0, 0.15);\n",
              "      filter: drop-shadow(0px 1px 2px rgba(0, 0, 0, 0.3));\n",
              "      fill: #FFFFFF;\n",
              "    }\n",
              "  </style>\n",
              "\n",
              "      <script>\n",
              "        const buttonEl =\n",
              "          document.querySelector('#df-903c2dcb-9adf-4ebf-8ecc-d8255bd88a2f button.colab-df-convert');\n",
              "        buttonEl.style.display =\n",
              "          google.colab.kernel.accessAllowed ? 'block' : 'none';\n",
              "\n",
              "        async function convertToInteractive(key) {\n",
              "          const element = document.querySelector('#df-903c2dcb-9adf-4ebf-8ecc-d8255bd88a2f');\n",
              "          const dataTable =\n",
              "            await google.colab.kernel.invokeFunction('convertToInteractive',\n",
              "                                                     [key], {});\n",
              "          if (!dataTable) return;\n",
              "\n",
              "          const docLinkHtml = 'Like what you see? Visit the ' +\n",
              "            '<a target=\"_blank\" href=https://colab.research.google.com/notebooks/data_table.ipynb>data table notebook</a>'\n",
              "            + ' to learn more about interactive tables.';\n",
              "          element.innerHTML = '';\n",
              "          dataTable['output_type'] = 'display_data';\n",
              "          await google.colab.output.renderOutput(dataTable, element);\n",
              "          const docLink = document.createElement('div');\n",
              "          docLink.innerHTML = docLinkHtml;\n",
              "          element.appendChild(docLink);\n",
              "        }\n",
              "      </script>\n",
              "    </div>\n",
              "  </div>\n",
              "  "
            ]
          },
          "metadata": {},
          "execution_count": 13
        }
      ]
    },
    {
      "cell_type": "markdown",
      "source": [
        "✔ get_dummies()를 이용하면 숫자형 값으로 변환 없이 바로 변환 가능"
      ],
      "metadata": {
        "id": "oQTWggBm9o3x"
      }
    },
    {
      "cell_type": "markdown",
      "source": [
        "## 2. 피처 스케일링과 정규화\n",
        "#### 피처 스케일링\n",
        "- 서로 다은 변수의 값 범위를 일정한 수준으로 맞추는 작업\n",
        "- 대표적인 방법으로 표준화(Standardization),정규화(Normalization)\n",
        "\n",
        "✔ 표준화\n",
        "- 데이터의 피처 각각이 평균 0, 분산(var) 1인 **가우시안 정규분포**를 가진 값으로 변환 하는 것\n",
        "\n",
        "✔ 정규화\n",
        "- 서로 다른 크기를 통일하기 위해 크기를 변환해주는 개념\n",
        "- 예로 km 와 원 단위 즉, 개별 데이터의 크기를 모두 똑같은 단위로 변경\n",
        "\n",
        "✔ 백터 정규화\n",
        "- 선형대수 개념의 정규화\n",
        "- 사이킷런의 Normarlizaer 모듈은 선형대수에서의 정규화 개념이 적용\n",
        "- 개별 백터의 크기를 맞추기 위해 변환하는 것을 의미\n",
        "\n",
        "⭐ 혼선 방지를 위해 표준화와 정규화를 피처스케일링으로 통칭, 선현대수 정규화를 백터 정규화로 지칭\n"
      ],
      "metadata": {
        "id": "UKw_GQBI907R"
      }
    },
    {
      "cell_type": "markdown",
      "source": [
        "-----------------------------------------------------------------------------"
      ],
      "metadata": {
        "id": "-hmeSPVME_WF"
      }
    },
    {
      "cell_type": "markdown",
      "source": [
        "### [ StandardScaler ]\n",
        "- 표준화를 쉽게 지원하기 위한 클래스\n",
        "- 가우시안 정규 분포를 가질 수 있도록 데이터를 변환하는 것은 몇몇 알고리즘에서 매우 중요\n",
        "- 선형회귀(Linear Regression), 로지스틱회귀(Logistic Regression)는 데이터가 가우시안 분포를 가지고 있다고 가정하고 구현됐기 때문에 사전에 표준화를 적용하는 것이 예측 성능 향상에 중요한 요소가 될 수 있음\n"
      ],
      "metadata": {
        "id": "aZZiXJODFCvt"
      }
    },
    {
      "cell_type": "code",
      "source": [
        "from sklearn.datasets import load_iris\n",
        "import pandas as pd\n",
        "\n",
        "# 붓꽃 데이터 세트 로딩 하고 DataFrame으로 변환\n",
        "iris = load_iris()\n",
        "iris_data = iris.data\n",
        "iris_df = pd.DataFrame(iris_data,columns=iris.feature_names)\n",
        "\n",
        "print('feature 들의 평균값')\n",
        "print(iris_df.mean())\n",
        "print('\\nfeature 들의 분산값')\n",
        "print(iris_df.var())"
      ],
      "metadata": {
        "colab": {
          "base_uri": "https://localhost:8080/"
        },
        "id": "zIUeksex9jz4",
        "outputId": "19a9e577-5848-4999-b740-bc8674d879a8"
      },
      "execution_count": 17,
      "outputs": [
        {
          "output_type": "stream",
          "name": "stdout",
          "text": [
            "feature 들의 평균값\n",
            "sepal length (cm)    5.843333\n",
            "sepal width (cm)     3.057333\n",
            "petal length (cm)    3.758000\n",
            "petal width (cm)     1.199333\n",
            "dtype: float64\n",
            "\n",
            "feature 들의 분산값\n",
            "sepal length (cm)    0.685694\n",
            "sepal width (cm)     0.189979\n",
            "petal length (cm)    3.116278\n",
            "petal width (cm)     0.581006\n",
            "dtype: float64\n"
          ]
        }
      ]
    },
    {
      "cell_type": "code",
      "source": [
        "# StandardScaler를 이용해 각 피처를 한번에 표준화\n",
        "from sklearn.preprocessing import StandardScaler\n",
        "\n",
        "# StandardScaler 객체 생성\n",
        "scaler = StandardScaler()\n",
        "\n",
        "# StandardScaler로 데이터 세트 변환, fit_transform()\n",
        "iris_scaled = scaler.fit_transform(iris_df)\n",
        "\n",
        "# transform() 시 스케일 변환된 데이터 세트가 ndarray로 반환돼 이를 DataFrame으로 반환\n",
        "iris_df_scaled = pd.DataFrame(iris_scaled, columns=iris.feature_names)\n",
        "\n",
        "print('feature 들의 평균값')\n",
        "print(iris_df_scaled.mean())\n",
        "print('\\nfeature 들의 분산값')\n",
        "print(iris_df_scaled.var())"
      ],
      "metadata": {
        "colab": {
          "base_uri": "https://localhost:8080/"
        },
        "id": "3lsESAiAFWJp",
        "outputId": "582d5cef-096d-4d2f-8359-92ef99dae644"
      },
      "execution_count": 18,
      "outputs": [
        {
          "output_type": "stream",
          "name": "stdout",
          "text": [
            "feature 들의 평균값\n",
            "sepal length (cm)   -1.690315e-15\n",
            "sepal width (cm)    -1.842970e-15\n",
            "petal length (cm)   -1.698641e-15\n",
            "petal width (cm)    -1.409243e-15\n",
            "dtype: float64\n",
            "\n",
            "feature 들의 분산값\n",
            "sepal length (cm)    1.006711\n",
            "sepal width (cm)     1.006711\n",
            "petal length (cm)    1.006711\n",
            "petal width (cm)     1.006711\n",
            "dtype: float64\n"
          ]
        }
      ]
    },
    {
      "cell_type": "markdown",
      "source": [
        "✔ 모든 컬럼 값이 평균이 0에 아주 가까운 값으로 변환\n",
        "\n",
        "✔ 분산은 1에 아주 가까운 값으로 변환됐음을 알 수  있다"
      ],
      "metadata": {
        "id": "g0KtNdqQIFr2"
      }
    },
    {
      "cell_type": "markdown",
      "source": [
        "### [ MinMaxScaler ]\n",
        "- 데이터 값을 0과 1사이의 범위 값으로 변환(음수값이 있으면 -1에서 1값으로 변환)\n",
        "- 데이터의 분포가 가우시안 분포가 아닐경우에 적용"
      ],
      "metadata": {
        "id": "snEs_9qtFWwr"
      }
    },
    {
      "cell_type": "code",
      "source": [
        "from sklearn.preprocessing import MinMaxScaler\n",
        "\n",
        "# MinMaxScaler 객체 생성\n",
        "scaler = MinMaxScaler()\n",
        "\n",
        "# MinMaxScaler로 데이터 세트 변환\n",
        "iris_scaled = scaler.fit_transform(iris_df)\n",
        "\n",
        "# ndarray로 변환 돼 이를 DataFrame으로 변환\n",
        "iris_df_scaled = pd.DataFrame(iris_scaled,columns=iris.feature_names)\n",
        "\n",
        "print('feature 들의 최솟값')\n",
        "print(iris_df_scaled.min())\n",
        "print('\\nfeature 들의 최댓값')\n",
        "print(iris_df_scaled.max())"
      ],
      "metadata": {
        "colab": {
          "base_uri": "https://localhost:8080/"
        },
        "id": "HsJcYwEQFXZ9",
        "outputId": "a7eac51b-6d39-44b0-b660-89dbe4a7123e"
      },
      "execution_count": 21,
      "outputs": [
        {
          "output_type": "stream",
          "name": "stdout",
          "text": [
            "feature 들의 최솟값\n",
            "sepal length (cm)    0.0\n",
            "sepal width (cm)     0.0\n",
            "petal length (cm)    0.0\n",
            "petal width (cm)     0.0\n",
            "dtype: float64\n",
            "\n",
            "feature 들의 최댓값\n",
            "sepal length (cm)    1.0\n",
            "sepal width (cm)     1.0\n",
            "petal length (cm)    1.0\n",
            "petal width (cm)     1.0\n",
            "dtype: float64\n"
          ]
        }
      ]
    },
    {
      "cell_type": "markdown",
      "source": [
        "✔ 모든 피처에서 0과 1 사이의 값으로 변환되는 스케일링이 적용"
      ],
      "metadata": {
        "id": "VUS9D-KgJ3BX"
      }
    },
    {
      "cell_type": "markdown",
      "source": [
        "## 학습 데이터와 테스트 데이터의 스케일링 변환시 유의점\n",
        "- 학습 데이터와 테스트 데이터를 분리를 먼저 했을 경우\n",
        "- 학습 데이터는 fit() transform()로 스케일링\n",
        "- 테스트 데이터는 transform()으로만 스케일링 해야한다 fit()은 절대 금지\n",
        "- 테스트 데이터로 다시 새로운 스케일링 기준 정보를 만들게 되면 학습 데이터와 테스트 데이터의 스케일링 기준 정보가 서로 달라지기 때문에 올바른 예측 결과가를 도출하지 못 한다\n",
        "\n",
        "⭐ 가능하다면 전체 데이터의 스케일링 변환을 적용한 뒤 학습과 테스트 데이터로 분리\n"
      ],
      "metadata": {
        "id": "DnKMirUlKEDk"
      }
    },
    {
      "cell_type": "code",
      "source": [
        ""
      ],
      "metadata": {
        "id": "FdqJSWGpJwas"
      },
      "execution_count": null,
      "outputs": []
    }
  ]
}